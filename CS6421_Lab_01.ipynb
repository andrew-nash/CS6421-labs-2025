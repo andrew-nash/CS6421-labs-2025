{
  "nbformat": 4,
  "nbformat_minor": 0,
  "metadata": {
    "colab": {
      "provenance": []
    },
    "kernelspec": {
      "name": "python3",
      "display_name": "Python 3"
    },
    "language_info": {
      "name": "python"
    }
  },
  "cells": [
    {
      "cell_type": "markdown",
      "source": [
        "# Basic Python Data Manipulation\n",
        "\n",
        "<a target=\"_blank\" href=\"https://colab.research.google.com/github/andrew-nash/CS6421-labs-2025/blob/main/CS6421_Lab_01.ipynb\">\n",
        "  <img src=\"https://colab.research.google.com/assets/colab-badge.svg\" alt=\"Open In Colab\"/>\n",
        "</a>\n",
        "\n",
        "This lab will cover the basics of NumPy, Pandas and a brief intoduction to basic operations in TensorFlow.\n",
        "\n",
        "While teaching Scientific Python is outside the scope of the course, we will touch on the use of these packages throughout the term\n",
        "\n",
        "There are plenty of resources online that cover this topic in much more detail such as:\n",
        "\n",
        "https://github.com/guiwitz/NumpyPandas_course\n",
        "\n"
      ],
      "metadata": {
        "id": "_3gscWN3GRtc"
      }
    },
    {
      "cell_type": "markdown",
      "source": [
        "## NumPy (https://numpy.org/)\n",
        "\n",
        "Described as 'the fundamental package for scientific computing with python'\n",
        "\n"
      ],
      "metadata": {
        "id": "MsQsg1LHGYhS"
      }
    },
    {
      "cell_type": "code",
      "source": [
        "import numpy as np"
      ],
      "metadata": {
        "id": "2yxb1PMDHKJj"
      },
      "execution_count": null,
      "outputs": []
    },
    {
      "cell_type": "markdown",
      "source": [
        "The main purpose of NumPy is to allow us to perform mathematical operations easily and efficiently over multi-dimensional arrays"
      ],
      "metadata": {
        "id": "M2_AAcCfIEts"
      }
    },
    {
      "cell_type": "markdown",
      "source": [
        "### Python Arrays"
      ],
      "metadata": {
        "id": "t3wbkTS0ImzT"
      }
    },
    {
      "cell_type": "code",
      "source": [
        "simple_list = [1,2,3,4,5]"
      ],
      "metadata": {
        "id": "k1WwO887ItXG"
      },
      "execution_count": null,
      "outputs": []
    },
    {
      "cell_type": "code",
      "source": [
        "print(simple_list[0])"
      ],
      "metadata": {
        "id": "CCerVUdaI6J_"
      },
      "execution_count": null,
      "outputs": []
    },
    {
      "cell_type": "code",
      "source": [
        "print(simple_list[0:3])"
      ],
      "metadata": {
        "id": "UPejIHwiI_AK"
      },
      "execution_count": null,
      "outputs": []
    },
    {
      "cell_type": "code",
      "source": [
        "###### EXERCISE ######\n",
        "# create a new list from simple_list, with values double that of simple_list\n",
        "new_list = []\n",
        "\n",
        "# .. your code here"
      ],
      "metadata": {
        "id": "0i-NrCwFJIX5"
      },
      "execution_count": null,
      "outputs": []
    },
    {
      "cell_type": "code",
      "source": [
        "simple_2d_list = [[1,2,3,4,5],[6,7,8,9,10],[11,12,13,14,15]]"
      ],
      "metadata": {
        "id": "WMF0JBOoIyf2"
      },
      "execution_count": null,
      "outputs": []
    },
    {
      "cell_type": "code",
      "source": [
        "print(simple_2d_list[0])"
      ],
      "metadata": {
        "id": "EXdKXF_-JBZs"
      },
      "execution_count": null,
      "outputs": []
    },
    {
      "cell_type": "code",
      "source": [
        "print(simple_2d_list[0][0:3])"
      ],
      "metadata": {
        "id": "Z91J17IPJEtx"
      },
      "execution_count": null,
      "outputs": []
    },
    {
      "cell_type": "code",
      "source": [
        "###### EXERCISE ######\n",
        "# Is it possible to slice the 2D list, to get the first 3 elements of the first 2#\n",
        "# rows in a new 2D list?\n",
        "\n",
        "small_slice = # ... your code"
      ],
      "metadata": {
        "id": "0ojtctQsJYJt"
      },
      "execution_count": null,
      "outputs": []
    },
    {
      "cell_type": "markdown",
      "source": [
        "### Creating NumPy Arrays\n"
      ],
      "metadata": {
        "id": "-Tu_vPnHHQ72"
      }
    },
    {
      "cell_type": "code",
      "source": [
        "np_1d_list = np.array(simple_list)\n",
        "np_1d_list"
      ],
      "metadata": {
        "id": "7JNIKWdVJ0fm"
      },
      "execution_count": null,
      "outputs": []
    },
    {
      "cell_type": "code",
      "source": [
        "np_2d_list = np.array(simple_2d_list)\n",
        "np_2d_list"
      ],
      "metadata": {
        "id": "cDxbgTJVKKNq"
      },
      "execution_count": null,
      "outputs": []
    },
    {
      "cell_type": "code",
      "source": [
        "np.zeros(5)"
      ],
      "metadata": {
        "id": "x5KdRhgbMDzC"
      },
      "execution_count": null,
      "outputs": []
    },
    {
      "cell_type": "code",
      "source": [
        "np.zeros((2,2))"
      ],
      "metadata": {
        "id": "BXmkWQdVMBDa"
      },
      "execution_count": null,
      "outputs": []
    },
    {
      "cell_type": "markdown",
      "source": [
        "When creating NumPy arrrays, it is also possible to declare the data type (dtype) that they will contain"
      ],
      "metadata": {
        "id": "SvLh8MBsUpvA"
      }
    },
    {
      "cell_type": "code",
      "source": [
        "np_1d_list = np.array(simple_list, dtype=np.float32)\n",
        "np_1d_list"
      ],
      "metadata": {
        "id": "s5layujxUx8t"
      },
      "execution_count": null,
      "outputs": []
    },
    {
      "cell_type": "code",
      "source": [
        "np_1d_list = np.array(simple_list, dtype=np.complex128)\n",
        "np_1d_list"
      ],
      "metadata": {
        "id": "U9B_s7DdVK2e"
      },
      "execution_count": null,
      "outputs": []
    },
    {
      "cell_type": "code",
      "source": [
        "np_1d_list = np.array(simple_list, dtype=str)\n",
        "np_1d_list"
      ],
      "metadata": {
        "id": "v0LEC3AhVmR1"
      },
      "execution_count": null,
      "outputs": []
    },
    {
      "cell_type": "code",
      "source": [
        "np_1d_list = np.array(simple_list, dtype=np.int16)\n",
        "np_1d_list"
      ],
      "metadata": {
        "id": "fvmH_1a6VHte"
      },
      "execution_count": null,
      "outputs": []
    },
    {
      "cell_type": "markdown",
      "source": [
        "### Indexing and Slicing\n",
        "\n",
        "Selecting elements of numpy arrays is similar to selecting elements of standard Python lists but with much more flexibility"
      ],
      "metadata": {
        "id": "xtLrj_6eKhDF"
      }
    },
    {
      "cell_type": "code",
      "source": [
        "np_1d_list[0]"
      ],
      "metadata": {
        "id": "TUuAgEbtKjdq"
      },
      "execution_count": null,
      "outputs": []
    },
    {
      "cell_type": "code",
      "source": [
        "np_1d_list[0:2]"
      ],
      "metadata": {
        "id": "DtmlSQxAKmDi"
      },
      "execution_count": null,
      "outputs": []
    },
    {
      "cell_type": "code",
      "source": [
        "np_2d_list[0,2]"
      ],
      "metadata": {
        "id": "tiU43aekKnsQ"
      },
      "execution_count": null,
      "outputs": []
    },
    {
      "cell_type": "code",
      "source": [
        "np_2d_list[0:2,0:3]"
      ],
      "metadata": {
        "id": "Gb_fUyu0Kali"
      },
      "execution_count": null,
      "outputs": []
    },
    {
      "cell_type": "code",
      "source": [
        "elements_selected = np.array([True,False,False,True,True])\n",
        "np_1d_list[elements_selected]"
      ],
      "metadata": {
        "id": "vtOjocpAV6R3"
      },
      "execution_count": null,
      "outputs": []
    },
    {
      "cell_type": "markdown",
      "source": [
        "### Mathematical Operations"
      ],
      "metadata": {
        "id": "aFm8k8uUKP1u"
      }
    },
    {
      "cell_type": "code",
      "source": [
        "np_1d_list * 5"
      ],
      "metadata": {
        "id": "D69q-Cf0KvZ6"
      },
      "execution_count": null,
      "outputs": []
    },
    {
      "cell_type": "code",
      "source": [
        "np_1d_list / 2"
      ],
      "metadata": {
        "id": "qH9NIum7K1cn"
      },
      "execution_count": null,
      "outputs": []
    },
    {
      "cell_type": "code",
      "source": [
        "np.exp(np_1d_list)"
      ],
      "metadata": {
        "id": "34UPsoU1K3Cy"
      },
      "execution_count": null,
      "outputs": []
    },
    {
      "cell_type": "code",
      "source": [
        "np.max(np_1d_list)"
      ],
      "metadata": {
        "id": "3KYpQXbvK5b6"
      },
      "execution_count": null,
      "outputs": []
    },
    {
      "cell_type": "code",
      "source": [
        "second_np_1d_list = np.array([10,20,30,40,50])"
      ],
      "metadata": {
        "id": "Us1oTjITK7dp"
      },
      "execution_count": null,
      "outputs": []
    },
    {
      "cell_type": "code",
      "source": [
        "np_1d_list+second_np_1d_list"
      ],
      "metadata": {
        "id": "bPHjkTKTLCxT"
      },
      "execution_count": null,
      "outputs": []
    },
    {
      "cell_type": "markdown",
      "source": [
        "\n",
        "These same operations work with higher dimensional arrays"
      ],
      "metadata": {
        "id": "vpKPos89LQC3"
      }
    },
    {
      "cell_type": "code",
      "source": [
        "np_2d_list+2"
      ],
      "metadata": {
        "id": "jnwTi0sILVyy"
      },
      "execution_count": null,
      "outputs": []
    },
    {
      "cell_type": "markdown",
      "source": [
        "What do you expect the outcome of multiplying a 1D array with a 2D array will be?"
      ],
      "metadata": {
        "id": "svMrtuWzLYv1"
      }
    },
    {
      "cell_type": "code",
      "source": [
        "np_2d_list * np_1d_list"
      ],
      "metadata": {
        "id": "7Inhbiu5LH5p"
      },
      "execution_count": null,
      "outputs": []
    },
    {
      "cell_type": "markdown",
      "source": [
        "### Linear Algebra in NumPy"
      ],
      "metadata": {
        "id": "ceS-_xOQGlfc"
      }
    },
    {
      "cell_type": "markdown",
      "source": [
        "Basic linear algebraic operations can also be performed in NumPy"
      ],
      "metadata": {
        "id": "dqIh_GjKLhha"
      }
    },
    {
      "cell_type": "markdown",
      "source": [
        "Vector-matrix multiplication"
      ],
      "metadata": {
        "id": "I93WQ-QOMnM6"
      }
    },
    {
      "cell_type": "code",
      "source": [
        "np_2d_list @ np_1d_list"
      ],
      "metadata": {
        "id": "sXlve9VqLg1b"
      },
      "execution_count": null,
      "outputs": []
    },
    {
      "cell_type": "markdown",
      "source": [
        "This also works for matrix-matrix multiplication"
      ],
      "metadata": {
        "id": "IJh6yQEuMi5p"
      }
    },
    {
      "cell_type": "code",
      "source": [
        "a = np.array([[1,0],[0,1]])\n",
        "b = np.array([[4,1],[2,2]])\n",
        "\n",
        "a@b"
      ],
      "metadata": {
        "id": "K8SPeY9SMeyd"
      },
      "execution_count": null,
      "outputs": []
    },
    {
      "cell_type": "markdown",
      "source": [
        "**EXERCISE**\n",
        "\n",
        "Why does the following code fail?\n",
        "\n",
        "`np_1d_list @ np_2d_list`"
      ],
      "metadata": {
        "id": "rbaCnwTFLuO1"
      }
    },
    {
      "cell_type": "markdown",
      "source": [
        "#### Shapes\n",
        "\n",
        "Numpy arrays have some very useful attributes - particularly size, shape and dtpye\n",
        "\n",
        "1. Size tracks the number of scalar values contained within then array (and any sub-arrays)\n",
        "2. Shape contains the size of each dimension of the array - e.g. shape=(3,4) corresponds to a 3x4 matrix"
      ],
      "metadata": {
        "id": "uvYzdEUmL9bV"
      }
    },
    {
      "cell_type": "code",
      "source": [
        "np_2d_list.shape"
      ],
      "metadata": {
        "id": "urauo-4iMK4q"
      },
      "execution_count": null,
      "outputs": []
    },
    {
      "cell_type": "code",
      "source": [
        "np_2d_list.size"
      ],
      "metadata": {
        "id": "aFLw_2AEaBvT"
      },
      "execution_count": null,
      "outputs": []
    },
    {
      "cell_type": "code",
      "source": [
        "np_1d_list.shape"
      ],
      "metadata": {
        "id": "_hHgY-k5MTht"
      },
      "execution_count": null,
      "outputs": []
    },
    {
      "cell_type": "markdown",
      "source": [
        "This becomes even more important when working with tensors:"
      ],
      "metadata": {
        "id": "eSgGb-8CMuXQ"
      }
    },
    {
      "cell_type": "code",
      "source": [
        "np_tensor_a = np.array([[[1,2,3],[4,5,6]],[[7,8,9],[10,11,12]]])\n",
        "np_tensor_a"
      ],
      "metadata": {
        "id": "lxlGBrKbMtnk"
      },
      "execution_count": null,
      "outputs": []
    },
    {
      "cell_type": "code",
      "source": [
        "np_tensor_a.shape"
      ],
      "metadata": {
        "id": "NYoJ61m2M3zX"
      },
      "execution_count": null,
      "outputs": []
    },
    {
      "cell_type": "markdown",
      "source": [
        "It is possible to transpose (rotate by 90 degrees) an array with `.T`"
      ],
      "metadata": {
        "id": "-FtwMvRtOJoS"
      }
    },
    {
      "cell_type": "code",
      "source": [
        "np_2d_list.T"
      ],
      "metadata": {
        "id": "DN_RQSRdOPur"
      },
      "execution_count": null,
      "outputs": []
    },
    {
      "cell_type": "code",
      "source": [
        "np_1d_list.T"
      ],
      "metadata": {
        "id": "WA6icMvFORvD"
      },
      "execution_count": null,
      "outputs": []
    },
    {
      "cell_type": "code",
      "source": [
        "np_tensor_a.T"
      ],
      "metadata": {
        "id": "5YelgVpXOT7c"
      },
      "execution_count": null,
      "outputs": []
    },
    {
      "cell_type": "markdown",
      "source": [
        "**EXERCISE**\n",
        "\n",
        "What are the requirements (in terms of shape) for two matrices to be multiplicable?"
      ],
      "metadata": {
        "id": "2nc8FLDBM7SD"
      }
    },
    {
      "cell_type": "markdown",
      "source": [
        "#### Re-shaping\n",
        "\n",
        "Given a NumPy array, it is possible to change its shape - provided that the total number of elements matches between the original and new shapes"
      ],
      "metadata": {
        "id": "JMBLRQZvNG1a"
      }
    },
    {
      "cell_type": "code",
      "source": [
        "flat_list = np.array([1,2,3,4,5,6,7,8,9,10,11,12])\n",
        "flat_list"
      ],
      "metadata": {
        "id": "fy1SX_xANUoY"
      },
      "execution_count": null,
      "outputs": []
    },
    {
      "cell_type": "code",
      "source": [
        "flat_list.reshape( (2,6) )"
      ],
      "metadata": {
        "id": "q7JkCciFNbF5"
      },
      "execution_count": null,
      "outputs": []
    },
    {
      "cell_type": "code",
      "source": [
        "flat_list.reshape( (2,3,2) )"
      ],
      "metadata": {
        "id": "bUz-m80NNfI2"
      },
      "execution_count": null,
      "outputs": []
    },
    {
      "cell_type": "code",
      "source": [
        "flat_list.reshape( (12,1) )"
      ],
      "metadata": {
        "collapsed": true,
        "id": "qJkhiJnbNjg9"
      },
      "execution_count": null,
      "outputs": []
    },
    {
      "cell_type": "code",
      "source": [
        "square_mat = np.array([[1,2,3],[4,5,6],[7,8,9],[10,11,12]])\n",
        "square_mat"
      ],
      "metadata": {
        "id": "ovx6RUcZNlku"
      },
      "execution_count": null,
      "outputs": []
    },
    {
      "cell_type": "code",
      "source": [
        "square_mat.reshape( (12,) )"
      ],
      "metadata": {
        "id": "3leeLJJpN2c6"
      },
      "execution_count": null,
      "outputs": []
    },
    {
      "cell_type": "code",
      "source": [
        "square_mat.reshape( (1,12) )"
      ],
      "metadata": {
        "id": "R24ExK5nNzKR"
      },
      "execution_count": null,
      "outputs": []
    },
    {
      "cell_type": "code",
      "source": [
        "square_mat.reshape( (1,6,2) )"
      ],
      "metadata": {
        "id": "2fLIDzLTOCC2"
      },
      "execution_count": null,
      "outputs": []
    },
    {
      "cell_type": "markdown",
      "source": [
        "## Pandas (https://pandas.pydata.org/)\n",
        "\n",
        "Pandas is a powerful data analysis and manipulation package built on top of NumPy, that targets tabular data\n"
      ],
      "metadata": {
        "id": "fAC04-1iGXM9"
      }
    },
    {
      "cell_type": "code",
      "source": [
        "import pandas as pd"
      ],
      "metadata": {
        "id": "VHijGN5MOiIv"
      },
      "execution_count": null,
      "outputs": []
    },
    {
      "cell_type": "markdown",
      "source": [
        "The basic data structures of Pandas are the Series and Dataframe"
      ],
      "metadata": {
        "id": "USdsMCtUP03e"
      }
    },
    {
      "cell_type": "code",
      "source": [
        "data = np.array([2,3,62,1,2])\n",
        "series1 = pd.Series(data, name=\"Example Series 1\")"
      ],
      "metadata": {
        "id": "dvMHd2aiPl-I"
      },
      "execution_count": null,
      "outputs": []
    },
    {
      "cell_type": "code",
      "source": [
        "data2 = np.log(data)\n",
        "series2 = pd.Series(data2, name=\"Example Series 2\")\n",
        "series2"
      ],
      "metadata": {
        "id": "EylmK-I1QPQV"
      },
      "execution_count": null,
      "outputs": []
    },
    {
      "cell_type": "code",
      "source": [
        "df = pd.DataFrame({\"Series 1\": series1, \"Series 2\": series2})\n",
        "df"
      ],
      "metadata": {
        "id": "npm2f9uMQVVh"
      },
      "execution_count": null,
      "outputs": []
    },
    {
      "cell_type": "code",
      "source": [
        "df.describe()"
      ],
      "metadata": {
        "id": "L76J9gl0Qjcn"
      },
      "execution_count": null,
      "outputs": []
    },
    {
      "cell_type": "markdown",
      "source": [
        "Pandas supports many useful operations over DataFrames\n",
        "\n",
        "1. Indexing over rows and columns\n",
        "2. Simple sumary statistics can be calculated over the columns\n",
        "3. Transformations can be applied to differnt columns\n",
        "4. SQL-like queries over the whole DataFrame, including grouping\n",
        "5. SQL-like merge and intersection operations between DataFrames\n",
        "6. And more ..."
      ],
      "metadata": {
        "id": "jQXCqj82Ql4L"
      }
    },
    {
      "cell_type": "code",
      "source": [
        "df.iloc[0:2,0]"
      ],
      "metadata": {
        "id": "uoXlWaGHRKqQ"
      },
      "execution_count": null,
      "outputs": []
    },
    {
      "cell_type": "code",
      "source": [
        "df['Series 1'].sum()"
      ],
      "metadata": {
        "id": "MPDGvzWJRN8n"
      },
      "execution_count": null,
      "outputs": []
    },
    {
      "cell_type": "code",
      "source": [
        "df['Series 1'].apply(lambda x: \"High\" if x>6 else \"Low\")"
      ],
      "metadata": {
        "id": "dVddg3K3RUU5"
      },
      "execution_count": null,
      "outputs": []
    },
    {
      "cell_type": "code",
      "source": [
        "df[(df[\"Series 1\"]>5 & (df[\"Series 2\"]>0))]"
      ],
      "metadata": {
        "id": "mn_1Q2H-RcxL"
      },
      "execution_count": null,
      "outputs": []
    },
    {
      "cell_type": "code",
      "source": [
        "df[\"Series 1\"].to_numpy()"
      ],
      "metadata": {
        "id": "YllCgXY2Ro0U"
      },
      "execution_count": null,
      "outputs": []
    },
    {
      "cell_type": "code",
      "source": [
        "df.to_numpy()"
      ],
      "metadata": {
        "id": "qtpVp9TFRqcy"
      },
      "execution_count": null,
      "outputs": []
    },
    {
      "cell_type": "markdown",
      "source": [
        "### Reading from CSV"
      ],
      "metadata": {
        "id": "txjkZmAKRxlx"
      }
    },
    {
      "cell_type": "code",
      "source": [
        "!wget https://github.com/datasciencedojo/datasets/raw/refs/heads/master/titanic.csv"
      ],
      "metadata": {
        "id": "CB_XnSFkRwbA"
      },
      "execution_count": null,
      "outputs": []
    },
    {
      "cell_type": "code",
      "source": [
        "tianic_df = pd.read_csv(\"titanic.csv\")"
      ],
      "metadata": {
        "id": "M1xZKZcIR2GL"
      },
      "execution_count": null,
      "outputs": []
    },
    {
      "cell_type": "code",
      "source": [
        "tianic_df"
      ],
      "metadata": {
        "id": "jxTicHh6R4lu"
      },
      "execution_count": null,
      "outputs": []
    },
    {
      "cell_type": "code",
      "source": [
        "selected_columns = [\"Pclass\",\"Fare\"]\n",
        "tianic_df[selected_columns]"
      ],
      "metadata": {
        "id": "czlq99MBZZtQ"
      },
      "execution_count": null,
      "outputs": []
    },
    {
      "cell_type": "code",
      "source": [
        "######## EXERCISE\n",
        "# Find the average fare for first class passengers"
      ],
      "metadata": {
        "id": "VCNRaD-PSBW_"
      },
      "execution_count": null,
      "outputs": []
    },
    {
      "cell_type": "code",
      "source": [
        "######## EXERCISE\n",
        "# Get a NumPy array containing the ticket class of passsengers under 18 who did not survive the sinking"
      ],
      "metadata": {
        "id": "JZbyxaDYSQvN"
      },
      "execution_count": null,
      "outputs": []
    },
    {
      "cell_type": "code",
      "source": [
        "######## ADVANCED EXERCISE\n",
        "# find the number of each class in this array\n",
        "# hint:  https://numpy.org/doc/stable/reference/routines.html"
      ],
      "metadata": {
        "id": "p3rJzQVITDTn"
      },
      "execution_count": null,
      "outputs": []
    },
    {
      "cell_type": "markdown",
      "source": [
        "# Brief intro to TensorFlow (https://www.tensorflow.org)\n",
        "\n",
        "TensorFlow is an end-to-end platform for machine learning."
      ],
      "metadata": {
        "id": "u0O0j9d-Tc1w"
      }
    },
    {
      "cell_type": "markdown",
      "source": [
        "## Tensors (https://www.tensorflow.org/guide/basics)\n",
        "\n",
        "The basic data structure in TensorFlow is the tf.Tensor, which is very similar to the np.array"
      ],
      "metadata": {
        "id": "10emXPO_UbPR"
      }
    },
    {
      "cell_type": "code",
      "source": [
        "import tensorflow as tf"
      ],
      "metadata": {
        "id": "QJ3uqKnXTe9_"
      },
      "execution_count": null,
      "outputs": []
    },
    {
      "cell_type": "code",
      "source": [
        "# An immutable Tensor\n",
        "x = tf.constant([[1., 2., 3.],\n",
        "                 [4., 5., 6.]])\n",
        "# A mutable Tensor\n",
        "vx = tf.Variable([[1., 2., 3.],\n",
        "                 [4., 5., 6.]])\n"
      ],
      "metadata": {
        "id": "UqtMhQxcUoZL"
      },
      "execution_count": null,
      "outputs": []
    },
    {
      "cell_type": "code",
      "source": [
        "x"
      ],
      "metadata": {
        "id": "2x_pN-LEUpPP"
      },
      "execution_count": null,
      "outputs": []
    },
    {
      "cell_type": "code",
      "source": [
        "vx"
      ],
      "metadata": {
        "id": "thnzcuJLVBM5"
      },
      "execution_count": null,
      "outputs": []
    },
    {
      "cell_type": "markdown",
      "source": [
        "## Mathematical operations\n",
        "\n",
        "These can be performed in much the same way as NumPy"
      ],
      "metadata": {
        "id": "WhlSQUzDVEhJ"
      }
    },
    {
      "cell_type": "code",
      "source": [
        "x = tf.constant(1.75)\n",
        "x*2"
      ],
      "metadata": {
        "id": "P5omQ5GQVBmO"
      },
      "execution_count": null,
      "outputs": []
    },
    {
      "cell_type": "code",
      "source": [
        "tf.exp(x)"
      ],
      "metadata": {
        "id": "japrw1boVTiO"
      },
      "execution_count": null,
      "outputs": []
    },
    {
      "cell_type": "code",
      "source": [
        "A = tf.constant([[1,2,3],[4,5,6]])\n",
        "B = tf.constant([[1,2,3,4],[5,6,7,8],[9,10,11,12]])\n",
        "\n",
        "C=tf.matmul(A,B)\n",
        "C"
      ],
      "metadata": {
        "id": "GJlnOi1nXN5Q"
      },
      "execution_count": null,
      "outputs": []
    },
    {
      "cell_type": "code",
      "source": [
        "C.shape"
      ],
      "metadata": {
        "id": "HV3ZL3cZXeTh"
      },
      "execution_count": null,
      "outputs": []
    },
    {
      "cell_type": "markdown",
      "source": [
        "## Auto-differentiation\n",
        "\n",
        "One of the most imporant differces over NumPy is TensorFlow's ability to autmatically differentiate user-defined functions"
      ],
      "metadata": {
        "id": "abtdL5e8Ve7Z"
      }
    },
    {
      "cell_type": "code",
      "source": [
        "def f(x):\n",
        "  y = x**2 + 2*x - 5\n",
        "  return y"
      ],
      "metadata": {
        "id": "qeL8hli0Vb7z"
      },
      "execution_count": null,
      "outputs": []
    },
    {
      "cell_type": "code",
      "source": [
        "x = tf.Variable(2.0)\n",
        "\n",
        "with tf.GradientTape() as tape:\n",
        "  y = f(x)\n",
        "\n",
        "g_x = tape.gradient(y, x)\n",
        "g_x"
      ],
      "metadata": {
        "id": "KKz8e9tnVtE9"
      },
      "execution_count": null,
      "outputs": []
    },
    {
      "cell_type": "markdown",
      "source": [
        "This also works over multi-variate functions"
      ],
      "metadata": {
        "id": "UfG7_TtVWHqw"
      }
    },
    {
      "cell_type": "code",
      "source": [
        "def f2(x):\n",
        "  # y = 5*x + 2*exp(x)\n",
        "  A = tf.constant(5.0)\n",
        "  B = tf.constant(2.0)\n",
        "  y = tf.add(tf.multiply(x,A), tf.multiply(B, tf.exp(x)))\n",
        "  return y"
      ],
      "metadata": {
        "id": "0AE-_WorWHQY"
      },
      "execution_count": null,
      "outputs": []
    },
    {
      "cell_type": "code",
      "source": [
        "x = tf.Variable([1.0,2.0,3.0,4.0,5.0])\n",
        "\n",
        "with tf.GradientTape() as tape:\n",
        "  y = f2(x)\n",
        "\n",
        "g_x = tape.gradient(y, x)\n",
        "g_x"
      ],
      "metadata": {
        "id": "AYY1V4f7WuqC"
      },
      "execution_count": null,
      "outputs": []
    },
    {
      "cell_type": "markdown",
      "source": [
        "# Keras - a preview\n",
        "\n",
        "In practice, you will not often be working at the level of basic operations (like the above) to create models - in practice, this will look ssomething like the following"
      ],
      "metadata": {
        "id": "qQvyujDmW7ow"
      }
    },
    {
      "cell_type": "code",
      "source": [
        "mnist = tf.keras.datasets.mnist\n",
        "\n",
        "(x_train, y_train), (x_test, y_test) = mnist.load_data()\n",
        "x_train, x_test = x_train / 255.0, x_test / 255.0\n",
        "\n",
        "x_train"
      ],
      "metadata": {
        "id": "bAksvIxJXuk-"
      },
      "execution_count": null,
      "outputs": []
    },
    {
      "cell_type": "markdown",
      "source": [
        "Notice how x_train is simply a NumPy array"
      ],
      "metadata": {
        "id": "S7Y1Ke0fX0Oc"
      }
    },
    {
      "cell_type": "code",
      "source": [
        "x_train.shape"
      ],
      "metadata": {
        "id": "an_zpS8eX4wy"
      },
      "execution_count": null,
      "outputs": []
    },
    {
      "cell_type": "code",
      "source": [
        "y_train.shape"
      ],
      "metadata": {
        "id": "AP5srWL1X6kh"
      },
      "execution_count": null,
      "outputs": []
    },
    {
      "cell_type": "markdown",
      "source": [
        "Creating a model:"
      ],
      "metadata": {
        "id": "oGsp-On8YNv7"
      }
    },
    {
      "cell_type": "code",
      "source": [
        "model = tf.keras.models.Sequential([\n",
        "  tf.keras.layers.Input(shape=(28, 28)),\n",
        "  tf.keras.layers.Flatten(),\n",
        "  tf.keras.layers.Dense(128, activation='relu'),\n",
        "  tf.keras.layers.Dropout(0.2),\n",
        "  tf.keras.layers.Dense(10)\n",
        "])"
      ],
      "metadata": {
        "id": "p8zm1EYfXyB1"
      },
      "execution_count": null,
      "outputs": []
    },
    {
      "cell_type": "markdown",
      "source": [
        "Performing Inference:"
      ],
      "metadata": {
        "id": "Gmv2V5_MYSUY"
      }
    },
    {
      "cell_type": "code",
      "source": [
        "model(x_train[0].reshape(1,28,28)).numpy()"
      ],
      "metadata": {
        "id": "nFvTpup2X-by"
      },
      "execution_count": null,
      "outputs": []
    },
    {
      "cell_type": "markdown",
      "source": [
        "Training your model:"
      ],
      "metadata": {
        "id": "XWP3pvyIYVh3"
      }
    },
    {
      "cell_type": "code",
      "source": [
        "loss_fn = tf.keras.losses.SparseCategoricalCrossentropy(from_logits=True)\n",
        "model.compile(optimizer='adam',\n",
        "              loss=loss_fn,\n",
        "              metrics=['accuracy'])\n",
        "model.fit(x_train, y_train, epochs=5)\n",
        "model.evaluate(x_test,  y_test, verbose=2)\n"
      ],
      "metadata": {
        "id": "NbvQtDldYVGg"
      },
      "execution_count": null,
      "outputs": []
    },
    {
      "cell_type": "markdown",
      "source": [
        "# Optional Practice - not graded"
      ],
      "metadata": {
        "id": "BmwksvQlYeTZ"
      }
    },
    {
      "cell_type": "code",
      "source": [
        "!wget https://github.com/datasets/house-prices-uk/raw/refs/heads/main/data/data.csv"
      ],
      "metadata": {
        "id": "b1ruDf4UbH6G"
      },
      "execution_count": null,
      "outputs": []
    },
    {
      "cell_type": "markdown",
      "source": [
        "## NumPy\n",
        "\n",
        "1. Create a vector v1 of the values $1,2,\\dots,24$\n",
        "2. Create a second vector v2 of the values $1,3,5,\\dots,47$ (bonus: try to use np.arange)\n",
        "3. Create a vector consisting of the values of v1/v2\n",
        "3. Find the dot product between v1 and v2 using the '@' and '.T' operations. Make sure that the shape of the result is (1,)\n",
        "\n",
        "## Pandas\n",
        "1. Load the data from data.csv to a Pandas dataframe\n",
        "2. Get the values of 'Price (New)' and 'Price (Modern)' for years where 'Change (All)' was negative\n",
        "3. Get the mean of 'Price (New)' and 'Price (Modern)'\n",
        "\n",
        "## TensorFlow\n",
        "\n",
        "1. Create the following matrix as a tf.constant\n",
        "\n",
        "\\begin{equation}\n",
        "  W = \\left(\\begin{array}[cc]\\\\\n",
        "  7.0 & -5.0 \\\\\n",
        "  2.5 & 3.0\n",
        "  \\end{array}\\right)\n",
        "\\end{equation}\n",
        "\n",
        "2. Define the following function where $Wx$ is matrix multiplication with 2-vector x:\n",
        "\n",
        "\\begin{equation}\n",
        "  f(x) = \\frac{1}{1+e^{-Wx}}\n",
        "\\end{equation}\n",
        "\n",
        "3. Get the gradient using tf's autodifferentiation of $f$ at \\begin{equation}x=\\left(\\begin{array}[c]\n",
        "\\;  2.56 \\\\\n",
        "    1.75 \\\\\n",
        "  \\end{array}\\right)\\end{equation}"
      ],
      "metadata": {
        "id": "T0VcyJEiYwy5"
      }
    }
  ]
}